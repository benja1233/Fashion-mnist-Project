{
 "cells": [
  {
   "cell_type": "markdown",
   "metadata": {
    "id": "v3sCVgBx3KVd"
   },
   "source": [
    "# Data Science Assesment\n",
    "\n",
    "Tasks:\n",
    "1. Create a TensorFlow model that performs product classification based on the available\n",
    "categories. [Link to the Dataset]\n",
    "2. Try out a few base models and save your models in .h5 format. Feel free to check out\n",
    "the TensorFlow Documentation Page.\n",
    "3. Perform Transfer Learning on your existing model, you can use this pre-trained model for\n",
    "the same which is trained on the fashionMNIST dataset.\n",
    "4. Plot graphs for all the models that you try and save the results into a document file.\n"
   ]
  },
  {
   "cell_type": "markdown",
   "metadata": {
    "id": "hKYGTCsL4QOM"
   },
   "source": [
    "## Imports"
   ]
  },
  {
   "cell_type": "code",
   "execution_count": null,
   "metadata": {
    "colab": {
     "base_uri": "https://localhost:8080/"
    },
    "id": "1Z3Ihub6APhY",
    "outputId": "6c9ba34d-4928-4fff-83c4-1ecbf999416f"
   },
   "outputs": [
    {
     "name": "stdout",
     "output_type": "stream",
     "text": [
      "Requirement already satisfied: PyDrive in /usr/local/lib/python3.7/dist-packages (1.3.1)\n",
      "Requirement already satisfied: PyYAML>=3.0 in /usr/local/lib/python3.7/dist-packages (from PyDrive) (3.13)\n",
      "Requirement already satisfied: google-api-python-client>=1.2 in /usr/local/lib/python3.7/dist-packages (from PyDrive) (1.7.12)\n",
      "Requirement already satisfied: oauth2client>=4.0.0 in /usr/local/lib/python3.7/dist-packages (from PyDrive) (4.1.3)\n",
      "Requirement already satisfied: google-auth>=1.4.1 in /usr/local/lib/python3.7/dist-packages (from google-api-python-client>=1.2->PyDrive) (1.27.0)\n",
      "Requirement already satisfied: google-auth-httplib2>=0.0.3 in /usr/local/lib/python3.7/dist-packages (from google-api-python-client>=1.2->PyDrive) (0.0.4)\n",
      "Requirement already satisfied: six<2dev,>=1.6.1 in /usr/local/lib/python3.7/dist-packages (from google-api-python-client>=1.2->PyDrive) (1.15.0)\n",
      "Requirement already satisfied: uritemplate<4dev,>=3.0.0 in /usr/local/lib/python3.7/dist-packages (from google-api-python-client>=1.2->PyDrive) (3.0.1)\n",
      "Requirement already satisfied: httplib2<1dev,>=0.17.0 in /usr/local/lib/python3.7/dist-packages (from google-api-python-client>=1.2->PyDrive) (0.17.4)\n",
      "Requirement already satisfied: pyasn1-modules>=0.0.5 in /usr/local/lib/python3.7/dist-packages (from oauth2client>=4.0.0->PyDrive) (0.2.8)\n",
      "Requirement already satisfied: pyasn1>=0.1.7 in /usr/local/lib/python3.7/dist-packages (from oauth2client>=4.0.0->PyDrive) (0.4.8)\n",
      "Requirement already satisfied: rsa>=3.1.4 in /usr/local/lib/python3.7/dist-packages (from oauth2client>=4.0.0->PyDrive) (4.7.2)\n",
      "Requirement already satisfied: setuptools>=40.3.0 in /usr/local/lib/python3.7/dist-packages (from google-auth>=1.4.1->google-api-python-client>=1.2->PyDrive) (54.0.0)\n",
      "Requirement already satisfied: cachetools<5.0,>=2.0.0 in /usr/local/lib/python3.7/dist-packages (from google-auth>=1.4.1->google-api-python-client>=1.2->PyDrive) (4.2.1)\n"
     ]
    }
   ],
   "source": [
    "!pip install PyDrive"
   ]
  },
  {
   "cell_type": "code",
   "execution_count": null,
   "metadata": {
    "colab": {
     "base_uri": "https://localhost:8080/"
    },
    "id": "P9T6g11OYgIi",
    "outputId": "ca85ee47-f3d7-47eb-aa51-90ad2ff3a470"
   },
   "outputs": [
    {
     "name": "stdout",
     "output_type": "stream",
     "text": [
      "Collecting tensorflow-gpu\n",
      "\u001b[?25l  Downloading https://files.pythonhosted.org/packages/85/cc/a27e73cf8b23f2ce4bdd2b7089a42a7819ce6dd7366dceba406ddc5daa9c/tensorflow_gpu-2.4.1-cp37-cp37m-manylinux2010_x86_64.whl (394.3MB)\n",
      "\u001b[K     |████████████████████████████████| 394.3MB 41kB/s \n",
      "\u001b[?25hRequirement already satisfied: tensorflow-estimator<2.5.0,>=2.4.0 in /usr/local/lib/python3.7/dist-packages (from tensorflow-gpu) (2.4.0)\n",
      "Requirement already satisfied: h5py~=2.10.0 in /usr/local/lib/python3.7/dist-packages (from tensorflow-gpu) (2.10.0)\n",
      "Requirement already satisfied: protobuf>=3.9.2 in /usr/local/lib/python3.7/dist-packages (from tensorflow-gpu) (3.12.4)\n",
      "Requirement already satisfied: wheel~=0.35 in /usr/local/lib/python3.7/dist-packages (from tensorflow-gpu) (0.36.2)\n",
      "Requirement already satisfied: google-pasta~=0.2 in /usr/local/lib/python3.7/dist-packages (from tensorflow-gpu) (0.2.0)\n",
      "Requirement already satisfied: gast==0.3.3 in /usr/local/lib/python3.7/dist-packages (from tensorflow-gpu) (0.3.3)\n",
      "Requirement already satisfied: numpy~=1.19.2 in /usr/local/lib/python3.7/dist-packages (from tensorflow-gpu) (1.19.5)\n",
      "Requirement already satisfied: absl-py~=0.10 in /usr/local/lib/python3.7/dist-packages (from tensorflow-gpu) (0.10.0)\n",
      "Requirement already satisfied: typing-extensions~=3.7.4 in /usr/local/lib/python3.7/dist-packages (from tensorflow-gpu) (3.7.4.3)\n",
      "Requirement already satisfied: astunparse~=1.6.3 in /usr/local/lib/python3.7/dist-packages (from tensorflow-gpu) (1.6.3)\n",
      "Requirement already satisfied: grpcio~=1.32.0 in /usr/local/lib/python3.7/dist-packages (from tensorflow-gpu) (1.32.0)\n",
      "Requirement already satisfied: six~=1.15.0 in /usr/local/lib/python3.7/dist-packages (from tensorflow-gpu) (1.15.0)\n",
      "Requirement already satisfied: wrapt~=1.12.1 in /usr/local/lib/python3.7/dist-packages (from tensorflow-gpu) (1.12.1)\n",
      "Requirement already satisfied: keras-preprocessing~=1.1.2 in /usr/local/lib/python3.7/dist-packages (from tensorflow-gpu) (1.1.2)\n",
      "Requirement already satisfied: tensorboard~=2.4 in /usr/local/lib/python3.7/dist-packages (from tensorflow-gpu) (2.4.1)\n",
      "Requirement already satisfied: flatbuffers~=1.12.0 in /usr/local/lib/python3.7/dist-packages (from tensorflow-gpu) (1.12)\n",
      "Requirement already satisfied: termcolor~=1.1.0 in /usr/local/lib/python3.7/dist-packages (from tensorflow-gpu) (1.1.0)\n",
      "Requirement already satisfied: opt-einsum~=3.3.0 in /usr/local/lib/python3.7/dist-packages (from tensorflow-gpu) (3.3.0)\n",
      "Requirement already satisfied: setuptools in /usr/local/lib/python3.7/dist-packages (from protobuf>=3.9.2->tensorflow-gpu) (54.0.0)\n",
      "Requirement already satisfied: markdown>=2.6.8 in /usr/local/lib/python3.7/dist-packages (from tensorboard~=2.4->tensorflow-gpu) (3.3.4)\n",
      "Requirement already satisfied: tensorboard-plugin-wit>=1.6.0 in /usr/local/lib/python3.7/dist-packages (from tensorboard~=2.4->tensorflow-gpu) (1.8.0)\n",
      "Requirement already satisfied: google-auth<2,>=1.6.3 in /usr/local/lib/python3.7/dist-packages (from tensorboard~=2.4->tensorflow-gpu) (1.27.0)\n",
      "Requirement already satisfied: google-auth-oauthlib<0.5,>=0.4.1 in /usr/local/lib/python3.7/dist-packages (from tensorboard~=2.4->tensorflow-gpu) (0.4.2)\n",
      "Requirement already satisfied: requests<3,>=2.21.0 in /usr/local/lib/python3.7/dist-packages (from tensorboard~=2.4->tensorflow-gpu) (2.23.0)\n",
      "Requirement already satisfied: werkzeug>=0.11.15 in /usr/local/lib/python3.7/dist-packages (from tensorboard~=2.4->tensorflow-gpu) (1.0.1)\n",
      "Requirement already satisfied: importlib-metadata; python_version < \"3.8\" in /usr/local/lib/python3.7/dist-packages (from markdown>=2.6.8->tensorboard~=2.4->tensorflow-gpu) (3.7.0)\n",
      "Requirement already satisfied: rsa<5,>=3.1.4; python_version >= \"3.6\" in /usr/local/lib/python3.7/dist-packages (from google-auth<2,>=1.6.3->tensorboard~=2.4->tensorflow-gpu) (4.7.2)\n",
      "Requirement already satisfied: cachetools<5.0,>=2.0.0 in /usr/local/lib/python3.7/dist-packages (from google-auth<2,>=1.6.3->tensorboard~=2.4->tensorflow-gpu) (4.2.1)\n",
      "Requirement already satisfied: pyasn1-modules>=0.2.1 in /usr/local/lib/python3.7/dist-packages (from google-auth<2,>=1.6.3->tensorboard~=2.4->tensorflow-gpu) (0.2.8)\n",
      "Requirement already satisfied: requests-oauthlib>=0.7.0 in /usr/local/lib/python3.7/dist-packages (from google-auth-oauthlib<0.5,>=0.4.1->tensorboard~=2.4->tensorflow-gpu) (1.3.0)\n",
      "Requirement already satisfied: urllib3!=1.25.0,!=1.25.1,<1.26,>=1.21.1 in /usr/local/lib/python3.7/dist-packages (from requests<3,>=2.21.0->tensorboard~=2.4->tensorflow-gpu) (1.24.3)\n",
      "Requirement already satisfied: certifi>=2017.4.17 in /usr/local/lib/python3.7/dist-packages (from requests<3,>=2.21.0->tensorboard~=2.4->tensorflow-gpu) (2020.12.5)\n",
      "Requirement already satisfied: idna<3,>=2.5 in /usr/local/lib/python3.7/dist-packages (from requests<3,>=2.21.0->tensorboard~=2.4->tensorflow-gpu) (2.10)\n",
      "Requirement already satisfied: chardet<4,>=3.0.2 in /usr/local/lib/python3.7/dist-packages (from requests<3,>=2.21.0->tensorboard~=2.4->tensorflow-gpu) (3.0.4)\n",
      "Requirement already satisfied: zipp>=0.5 in /usr/local/lib/python3.7/dist-packages (from importlib-metadata; python_version < \"3.8\"->markdown>=2.6.8->tensorboard~=2.4->tensorflow-gpu) (3.4.0)\n",
      "Requirement already satisfied: pyasn1>=0.1.3 in /usr/local/lib/python3.7/dist-packages (from rsa<5,>=3.1.4; python_version >= \"3.6\"->google-auth<2,>=1.6.3->tensorboard~=2.4->tensorflow-gpu) (0.4.8)\n",
      "Requirement already satisfied: oauthlib>=3.0.0 in /usr/local/lib/python3.7/dist-packages (from requests-oauthlib>=0.7.0->google-auth-oauthlib<0.5,>=0.4.1->tensorboard~=2.4->tensorflow-gpu) (3.1.0)\n",
      "Installing collected packages: tensorflow-gpu\n",
      "Successfully installed tensorflow-gpu-2.4.1\n"
     ]
    }
   ],
   "source": [
    "!pip install tensorflow-gpu"
   ]
  },
  {
   "cell_type": "code",
   "execution_count": null,
   "metadata": {
    "id": "7A3OGS_FLnkG"
   },
   "outputs": [],
   "source": [
    "!pip install -q keras"
   ]
  },
  {
   "cell_type": "code",
   "execution_count": null,
   "metadata": {
    "id": "npHI0d0zLtDo"
   },
   "outputs": [],
   "source": [
    "import keras\n",
    "from keras.models import load_model\n",
    "from keras.layers import Input, Lambda, Dense, Flatten, Conv2D, BatchNormalization, Dropout, MaxPooling2D\n",
    "from keras.applications.vgg19 import VGG19\n",
    "from keras.applications.vgg16 import preprocess_input\n",
    "from keras.preprocessing import image\n",
    "from keras.preprocessing.image import ImageDataGenerator\n",
    "from keras.models import Sequential, Model\n",
    "from keras.callbacks import EarlyStopping, ModelCheckpoint\n",
    "from keras.preprocessing.image import array_to_img, img_to_array, load_img\n",
    "from glob import glob"
   ]
  },
  {
   "cell_type": "code",
   "execution_count": null,
   "metadata": {
    "id": "_UT1NcNrAZnh"
   },
   "outputs": [],
   "source": [
    "from pydrive.auth import GoogleAuth\n",
    "from pydrive.drive import GoogleDrive\n",
    "from google.colab import auth\n",
    "from oauth2client.client import GoogleCredentials"
   ]
  },
  {
   "cell_type": "code",
   "execution_count": null,
   "metadata": {
    "id": "d-GruG8kP8L6"
   },
   "outputs": [],
   "source": [
    "import os\n",
    "import datetime as dt\n",
    "import six\n",
    "import numpy as np\n",
    "import h5py\n",
    "import matplotlib.pyplot as plt\n",
    "import cv2"
   ]
  },
  {
   "cell_type": "code",
   "execution_count": null,
   "metadata": {
    "id": "ikwoX0XaMUBA"
   },
   "outputs": [],
   "source": [
    "import matplotlib.pyplot as plt\n",
    "import matplotlib.image as mpimg\n",
    "import tensorflow as tf"
   ]
  },
  {
   "cell_type": "markdown",
   "metadata": {
    "id": "Lg2hUHFU4fHB"
   },
   "source": [
    "## Connect the google drive to the environment"
   ]
  },
  {
   "cell_type": "code",
   "execution_count": null,
   "metadata": {
    "id": "HBdCV9onSNj8"
   },
   "outputs": [],
   "source": [
    "# Load the Drive helper and mount\n",
    "#from google.colab import drive\n",
    "\n",
    "# This will prompt for authorization.\n",
    "auth.authenticate_user()\n",
    "gauth = GoogleAuth()\n",
    "gauth.credentials = GoogleCredentials.get_application_default()\n",
    "drive = GoogleDrive(gauth)"
   ]
  },
  {
   "cell_type": "markdown",
   "metadata": {
    "id": "mK1gflCF4utX"
   },
   "source": [
    "## Import the Productos.zip file and unzip it"
   ]
  },
  {
   "cell_type": "code",
   "execution_count": null,
   "metadata": {
    "id": "Y5AN_uOJShJB"
   },
   "outputs": [],
   "source": [
    "#2.1 Get the file\n",
    "downloaded = drive.CreateFile({'id':'1qTc4DWUihozI4xNI_B4XP2E-LXcgdVET'}) # replace the id with id of file you want to access\n",
    "downloaded.GetContentFile('Productos.zip') "
   ]
  },
  {
   "cell_type": "code",
   "execution_count": null,
   "metadata": {
    "colab": {
     "base_uri": "https://localhost:8080/"
    },
    "id": "osQAPIdSENlP",
    "outputId": "4100aea0-c05a-493c-fc32-09eccda870fd"
   },
   "outputs": [
    {
     "name": "stdout",
     "output_type": "stream",
     "text": [
      "Files in '/content': ['.config', 'adc.json', 'drive', 'Productos.zip', 'sample_data']\n"
     ]
    }
   ],
   "source": [
    "cwd = os.getcwd()  # Get the current working directory (cwd)\n",
    "files = os.listdir(cwd)  # Get all the files in that directory\n",
    "print(\"Files in %r: %s\" % (cwd, files))"
   ]
  },
  {
   "cell_type": "code",
   "execution_count": null,
   "metadata": {
    "colab": {
     "base_uri": "https://localhost:8080/"
    },
    "id": "5WAmlXUCCw_u",
    "outputId": "e9d61f31-a409-400f-d510-f25ef6648bba"
   },
   "outputs": [
    {
     "name": "stdout",
     "output_type": "stream",
     "text": [
      "Done\n"
     ]
    }
   ],
   "source": [
    "from zipfile import ZipFile\n",
    "file_name = \"Productos.zip\"\n",
    "\n",
    "with ZipFile(file_name, 'r') as proj:\n",
    "  proj.extractall()\n",
    "  print('Done')"
   ]
  },
  {
   "cell_type": "markdown",
   "metadata": {
    "id": "9_xX9edD44hS"
   },
   "source": [
    "## Prepare Dataset"
   ]
  },
  {
   "cell_type": "markdown",
   "metadata": {
    "id": "61m8fkX549RN"
   },
   "source": [
    "The first step to prepare the Dataset is to split the current folder with the images in their categories into the following architecture."
   ]
  },
  {
   "cell_type": "markdown",
   "metadata": {
    "id": "KJPOPuIB5P2O"
   },
   "source": [
    "![Architecture_of_files.jpeg](data:image/jpeg;base64,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)"
   ]
  },
  {
   "cell_type": "markdown",
   "metadata": {
    "id": "VCmodxVl5gOL"
   },
   "source": [
    "As shown in the figure above, we need to have the Data split between 3 folders(Train, Valid, Test). The Train and the Valid get divided in 29 sub-folders, one for each category."
   ]
  },
  {
   "cell_type": "code",
   "execution_count": null,
   "metadata": {
    "colab": {
     "base_uri": "https://localhost:8080/"
    },
    "id": "uUsU6f5AsUVl",
    "outputId": "9c2befed-57e2-452d-b70d-723c5f5a7208"
   },
   "outputs": [
    {
     "name": "stdout",
     "output_type": "stream",
     "text": [
      "Collecting split-folders\n",
      "  Downloading https://files.pythonhosted.org/packages/b8/5f/3c2b2f7ea5e047c8cdc3bb00ae582c5438fcdbbedcc23b3cc1c2c7aae642/split_folders-0.4.3-py3-none-any.whl\n",
      "Installing collected packages: split-folders\n",
      "Successfully installed split-folders-0.4.3\n"
     ]
    }
   ],
   "source": [
    "pip install split-folders"
   ]
  },
  {
   "cell_type": "code",
   "execution_count": null,
   "metadata": {
    "colab": {
     "base_uri": "https://localhost:8080/"
    },
    "id": "ytj-NttQsWRa",
    "outputId": "3536bbbc-8f2b-414e-91af-ddec2c583c0e"
   },
   "outputs": [
    {
     "name": "stdout",
     "output_type": "stream",
     "text": [
      "Collecting split-folders\n",
      "  Downloading https://files.pythonhosted.org/packages/b8/5f/3c2b2f7ea5e047c8cdc3bb00ae582c5438fcdbbedcc23b3cc1c2c7aae642/split_folders-0.4.3-py3-none-any.whl\n",
      "Requirement already satisfied: tqdm in /usr/local/lib/python3.7/dist-packages (4.41.1)\n",
      "Installing collected packages: split-folders\n",
      "Successfully installed split-folders-0.4.3\n"
     ]
    }
   ],
   "source": [
    "pip install split-folders tqdm"
   ]
  },
  {
   "cell_type": "code",
   "execution_count": null,
   "metadata": {
    "id": "BZNWlYVasaGH"
   },
   "outputs": [],
   "source": [
    "import splitfolders"
   ]
  },
  {
   "cell_type": "code",
   "execution_count": null,
   "metadata": {
    "colab": {
     "base_uri": "https://localhost:8080/"
    },
    "id": "giVeyccttOb6",
    "outputId": "446e381e-8d85-4ff6-d900-eb4006ec3581"
   },
   "outputs": [
    {
     "name": "stderr",
     "output_type": "stream",
     "text": [
      "Copying files: 9394 files [47:20,  3.31 files/s]\n"
     ]
    }
   ],
   "source": [
    "splitfolders.ratio(\"/content/drive/MyDrive/Proyecto ropa/Colab Notebooks/ROPA\", output=\"output\", seed=1337, ratio=(.8, .1, .1), group_prefix=None) # default values"
   ]
  },
  {
   "cell_type": "code",
   "execution_count": null,
   "metadata": {
    "id": "Yx-qf3q06g6j"
   },
   "outputs": [],
   "source": [
    "train_path = \"/content/output/train\"\n",
    "test_path = \"/content/output/test\"\n",
    "val_path = \"/content/output/val\""
   ]
  },
  {
   "cell_type": "markdown",
   "metadata": {
    "id": "F5R6NGaJ6Uxs"
   },
   "source": [
    "## Preparing the new Dataset\n",
    "\n",
    "The images are rescaled and passed through a process of image augmentation for a better fitting of the model. The image size was set to (50, 50, 3) meaning that it has a height and width of 50 pixels and 3 channels, rgb. We are working with channel last default."
   ]
  },
  {
   "cell_type": "code",
   "execution_count": null,
   "metadata": {
    "id": "KpDA275imt4T"
   },
   "outputs": [],
   "source": [
    "IMG_SIZE = (50, 50)"
   ]
  },
  {
   "cell_type": "code",
   "execution_count": null,
   "metadata": {
    "colab": {
     "base_uri": "https://localhost:8080/"
    },
    "id": "J0UREH9oKfi_",
    "outputId": "a229a6ac-3d2d-4c11-b511-0c71d67f5cd0"
   },
   "outputs": [
    {
     "name": "stdout",
     "output_type": "stream",
     "text": [
      "Found 7502 images belonging to 29 classes.\n",
      "Found 928 images belonging to 29 classes.\n",
      "Found 964 images belonging to 29 classes.\n"
     ]
    }
   ],
   "source": [
    "train_datagen = ImageDataGenerator(rescale = 1./255,\n",
    "                                   shear_range = 0.2,\n",
    "                                   zoom_range = 0.2,\n",
    "                                   horizontal_flip = True)\n",
    "\n",
    "valid_datagen = ImageDataGenerator(rescale = 1./255,\n",
    "                                   shear_range = 0.2,\n",
    "                                   zoom_range = 0.2,\n",
    "                                   horizontal_flip = True)\n",
    "\n",
    "test_datagen = ImageDataGenerator(rescale = 1./255)\n",
    "\n",
    "training_set = train_datagen.flow_from_directory(\n",
    "    \"/content/drive/MyDrive/Proyecto ropa/output/train\", \n",
    "    target_size = (50,50),\n",
    "    color_mode = 'rgb',\n",
    "    batch_size = 16,\n",
    "    class_mode = 'categorical',\n",
    "    shuffle = True,\n",
    "    seed = 42)\n",
    "\n",
    "valid_generator = valid_datagen.flow_from_directory(\n",
    "    directory=r\"/content/drive/MyDrive/Proyecto ropa/output/val\",\n",
    "    target_size=(50, 50),\n",
    "    color_mode=\"rgb\",\n",
    "    batch_size=16,\n",
    "    class_mode=\"categorical\",\n",
    "    shuffle=True,\n",
    "    seed=42\n",
    ")\n",
    "\n",
    "test_set = test_datagen.flow_from_directory(\n",
    "    '/content/drive/MyDrive/Proyecto ropa/output/test',\n",
    "    target_size = (50, 50),\n",
    "    batch_size = 1,\n",
    "    shuffle = False,\n",
    "    seed = 42,\n",
    "    class_mode = None)"
   ]
  },
  {
   "cell_type": "markdown",
   "metadata": {
    "id": "wILTTNU27P7K"
   },
   "source": [
    "This is how the modified images look like, and how the model will use them for fitting."
   ]
  },
  {
   "cell_type": "code",
   "execution_count": null,
   "metadata": {
    "colab": {
     "base_uri": "https://localhost:8080/",
     "height": 267
    },
    "id": "5g5MYKZoixRu",
    "outputId": "9cffa094-bede-4381-e53d-2e6632cfe78a"
   },
   "outputs": [
    {
     "data": {
      "image/png": "[encoded data removed]",
      "text/plain": [
       "<Figure size 432x288 with 1 Axes>"
      ]
     },
     "metadata": {
      "needs_background": "light",
      "tags": []
     },
     "output_type": "display_data"
    }
   ],
   "source": [
    "img = plt.imshow(training_set[2][0][0])\n",
    "\n",
    "def norm_input(x): return (x-mean_px)/std_px\n"
   ]
  },
  {
   "cell_type": "markdown",
   "metadata": {
    "id": "qtsXKXBa7cSq"
   },
   "source": [
    "## Compile and train the model\n",
    "\n"
   ]
  },
  {
   "cell_type": "markdown",
   "metadata": {
    "id": "sqLcAN05Ldw6"
   },
   "source": [
    "For the model we used a Sequential model as all the layers will be stacked with each one having exactly one input tensor and one output tensor. The model consists of a series of Conv2D layers which creates convolution kernels for detecting features and patterns in the images. Then a BatchNormalization that standarizes the inputs and reduces the amount of epochs needed for the training of the model. Then the MaxPooling2D layer is used to summarize the average presence of a feature and the most activated presence of a feature respectively.\n",
    "Finally a Flatten layer is include to change the dimension of the outpus followed by some Dense layers with 512 neurons. In between the Dense layers a Dropout of 50% is included to help prevent overfitting of the model. Finally, the last Dense layer has an output of 29 neurons, that represent each of the categories if the Dataset, and an activation function softmax for a probability distribution of the output."
   ]
  },
  {
   "cell_type": "code",
   "execution_count": null,
   "metadata": {
    "colab": {
     "base_uri": "https://localhost:8080/",
     "height": 479
    },
    "id": "ENKQlPz1HurX",
    "outputId": "eaf7746c-8664-4996-a0d2-1ebae0c892c3"
   },
   "outputs": [
    {
     "name": "stderr",
     "output_type": "stream",
     "text": [
      "/usr/local/lib/python3.7/dist-packages/tensorflow/python/keras/engine/training.py:1844: UserWarning: `Model.fit_generator` is deprecated and will be removed in a future version. Please use `Model.fit`, which supports generators.\n",
      "  warnings.warn('`Model.fit_generator` is deprecated and '\n"
     ]
    },
    {
     "name": "stdout",
     "output_type": "stream",
     "text": [
      "Epoch 1/100\n",
      "  3/468 [..............................] - ETA: 29:13 - loss: 5.2563 - accuracy: 0.0799"
     ]
    },
    {
     "ename": "KeyboardInterrupt",
     "evalue": "ignored",
     "output_type": "error",
     "traceback": [
      "\u001b[0;31m---------------------------------------------------------------------------\u001b[0m",
      "\u001b[0;31mKeyboardInterrupt\u001b[0m                         Traceback (most recent call last)",
      "\u001b[0;32m<ipython-input-79-95a00e238981>\u001b[0m in \u001b[0;36m<module>\u001b[0;34m()\u001b[0m\n\u001b[1;32m     47\u001b[0m                     \u001b[0mvalidation_steps\u001b[0m\u001b[0;34m=\u001b[0m\u001b[0mSTEP_SIZE_VALID\u001b[0m\u001b[0;34m,\u001b[0m\u001b[0;34m\u001b[0m\u001b[0;34m\u001b[0m\u001b[0m\n\u001b[1;32m     48\u001b[0m                     \u001b[0mepochs\u001b[0m\u001b[0;34m=\u001b[0m\u001b[0;36m100\u001b[0m\u001b[0;34m,\u001b[0m\u001b[0;34m\u001b[0m\u001b[0;34m\u001b[0m\u001b[0m\n\u001b[0;32m---> 49\u001b[0;31m                     \u001b[0mcallbacks\u001b[0m\u001b[0;34m=\u001b[0m\u001b[0;34m[\u001b[0m\u001b[0mcheck\u001b[0m\u001b[0;34m,\u001b[0m \u001b[0mes\u001b[0m\u001b[0;34m]\u001b[0m\u001b[0;34m\u001b[0m\u001b[0;34m\u001b[0m\u001b[0m\n\u001b[0m\u001b[1;32m     50\u001b[0m )\n",
      "\u001b[0;32m/usr/local/lib/python3.7/dist-packages/tensorflow/python/keras/engine/training.py\u001b[0m in \u001b[0;36mfit_generator\u001b[0;34m(self, generator, steps_per_epoch, epochs, verbose, callbacks, validation_data, validation_steps, validation_freq, class_weight, max_queue_size, workers, use_multiprocessing, shuffle, initial_epoch)\u001b[0m\n\u001b[1;32m   1859\u001b[0m         \u001b[0muse_multiprocessing\u001b[0m\u001b[0;34m=\u001b[0m\u001b[0muse_multiprocessing\u001b[0m\u001b[0;34m,\u001b[0m\u001b[0;34m\u001b[0m\u001b[0;34m\u001b[0m\u001b[0m\n\u001b[1;32m   1860\u001b[0m         \u001b[0mshuffle\u001b[0m\u001b[0;34m=\u001b[0m\u001b[0mshuffle\u001b[0m\u001b[0;34m,\u001b[0m\u001b[0;34m\u001b[0m\u001b[0;34m\u001b[0m\u001b[0m\n\u001b[0;32m-> 1861\u001b[0;31m         initial_epoch=initial_epoch)\n\u001b[0m\u001b[1;32m   1862\u001b[0m \u001b[0;34m\u001b[0m\u001b[0m\n\u001b[1;32m   1863\u001b[0m   def evaluate_generator(self,\n",
      "\u001b[0;32m/usr/local/lib/python3.7/dist-packages/tensorflow/python/keras/engine/training.py\u001b[0m in \u001b[0;36mfit\u001b[0;34m(self, x, y, batch_size, epochs, verbose, callbacks, validation_split, validation_data, shuffle, class_weight, sample_weight, initial_epoch, steps_per_epoch, validation_steps, validation_batch_size, validation_freq, max_queue_size, workers, use_multiprocessing)\u001b[0m\n\u001b[1;32m   1098\u001b[0m                 _r=1):\n\u001b[1;32m   1099\u001b[0m               \u001b[0mcallbacks\u001b[0m\u001b[0;34m.\u001b[0m\u001b[0mon_train_batch_begin\u001b[0m\u001b[0;34m(\u001b[0m\u001b[0mstep\u001b[0m\u001b[0;34m)\u001b[0m\u001b[0;34m\u001b[0m\u001b[0;34m\u001b[0m\u001b[0m\n\u001b[0;32m-> 1100\u001b[0;31m               \u001b[0mtmp_logs\u001b[0m \u001b[0;34m=\u001b[0m \u001b[0mself\u001b[0m\u001b[0;34m.\u001b[0m\u001b[0mtrain_function\u001b[0m\u001b[0;34m(\u001b[0m\u001b[0miterator\u001b[0m\u001b[0;34m)\u001b[0m\u001b[0;34m\u001b[0m\u001b[0;34m\u001b[0m\u001b[0m\n\u001b[0m\u001b[1;32m   1101\u001b[0m               \u001b[0;32mif\u001b[0m \u001b[0mdata_handler\u001b[0m\u001b[0;34m.\u001b[0m\u001b[0mshould_sync\u001b[0m\u001b[0;34m:\u001b[0m\u001b[0;34m\u001b[0m\u001b[0;34m\u001b[0m\u001b[0m\n\u001b[1;32m   1102\u001b[0m                 \u001b[0mcontext\u001b[0m\u001b[0;34m.\u001b[0m\u001b[0masync_wait\u001b[0m\u001b[0;34m(\u001b[0m\u001b[0;34m)\u001b[0m\u001b[0;34m\u001b[0m\u001b[0;34m\u001b[0m\u001b[0m\n",
      "\u001b[0;32m/usr/local/lib/python3.7/dist-packages/tensorflow/python/eager/def_function.py\u001b[0m in \u001b[0;36m__call__\u001b[0;34m(self, *args, **kwds)\u001b[0m\n\u001b[1;32m    826\u001b[0m     \u001b[0mtracing_count\u001b[0m \u001b[0;34m=\u001b[0m \u001b[0mself\u001b[0m\u001b[0;34m.\u001b[0m\u001b[0mexperimental_get_tracing_count\u001b[0m\u001b[0;34m(\u001b[0m\u001b[0;34m)\u001b[0m\u001b[0;34m\u001b[0m\u001b[0;34m\u001b[0m\u001b[0m\n\u001b[1;32m    827\u001b[0m     \u001b[0;32mwith\u001b[0m \u001b[0mtrace\u001b[0m\u001b[0;34m.\u001b[0m\u001b[0mTrace\u001b[0m\u001b[0;34m(\u001b[0m\u001b[0mself\u001b[0m\u001b[0;34m.\u001b[0m\u001b[0m_name\u001b[0m\u001b[0;34m)\u001b[0m \u001b[0;32mas\u001b[0m \u001b[0mtm\u001b[0m\u001b[0;34m:\u001b[0m\u001b[0;34m\u001b[0m\u001b[0;34m\u001b[0m\u001b[0m\n\u001b[0;32m--> 828\u001b[0;31m       \u001b[0mresult\u001b[0m \u001b[0;34m=\u001b[0m \u001b[0mself\u001b[0m\u001b[0;34m.\u001b[0m\u001b[0m_call\u001b[0m\u001b[0;34m(\u001b[0m\u001b[0;34m*\u001b[0m\u001b[0margs\u001b[0m\u001b[0;34m,\u001b[0m \u001b[0;34m**\u001b[0m\u001b[0mkwds\u001b[0m\u001b[0;34m)\u001b[0m\u001b[0;34m\u001b[0m\u001b[0;34m\u001b[0m\u001b[0m\n\u001b[0m\u001b[1;32m    829\u001b[0m       \u001b[0mcompiler\u001b[0m \u001b[0;34m=\u001b[0m \u001b[0;34m\"xla\"\u001b[0m \u001b[0;32mif\u001b[0m \u001b[0mself\u001b[0m\u001b[0;34m.\u001b[0m\u001b[0m_experimental_compile\u001b[0m \u001b[0;32melse\u001b[0m \u001b[0;34m\"nonXla\"\u001b[0m\u001b[0;34m\u001b[0m\u001b[0;34m\u001b[0m\u001b[0m\n\u001b[1;32m    830\u001b[0m       \u001b[0mnew_tracing_count\u001b[0m \u001b[0;34m=\u001b[0m \u001b[0mself\u001b[0m\u001b[0;34m.\u001b[0m\u001b[0mexperimental_get_tracing_count\u001b[0m\u001b[0;34m(\u001b[0m\u001b[0;34m)\u001b[0m\u001b[0;34m\u001b[0m\u001b[0;34m\u001b[0m\u001b[0m\n",
      "\u001b[0;32m/usr/local/lib/python3.7/dist-packages/tensorflow/python/eager/def_function.py\u001b[0m in \u001b[0;36m_call\u001b[0;34m(self, *args, **kwds)\u001b[0m\n\u001b[1;32m    853\u001b[0m       \u001b[0;31m# In this case we have created variables on the first call, so we run the\u001b[0m\u001b[0;34m\u001b[0m\u001b[0;34m\u001b[0m\u001b[0;34m\u001b[0m\u001b[0m\n\u001b[1;32m    854\u001b[0m       \u001b[0;31m# defunned version which is guaranteed to never create variables.\u001b[0m\u001b[0;34m\u001b[0m\u001b[0;34m\u001b[0m\u001b[0;34m\u001b[0m\u001b[0m\n\u001b[0;32m--> 855\u001b[0;31m       \u001b[0;32mreturn\u001b[0m \u001b[0mself\u001b[0m\u001b[0;34m.\u001b[0m\u001b[0m_stateless_fn\u001b[0m\u001b[0;34m(\u001b[0m\u001b[0;34m*\u001b[0m\u001b[0margs\u001b[0m\u001b[0;34m,\u001b[0m \u001b[0;34m**\u001b[0m\u001b[0mkwds\u001b[0m\u001b[0;34m)\u001b[0m  \u001b[0;31m# pylint: disable=not-callable\u001b[0m\u001b[0;34m\u001b[0m\u001b[0;34m\u001b[0m\u001b[0m\n\u001b[0m\u001b[1;32m    856\u001b[0m     \u001b[0;32melif\u001b[0m \u001b[0mself\u001b[0m\u001b[0;34m.\u001b[0m\u001b[0m_stateful_fn\u001b[0m \u001b[0;32mis\u001b[0m \u001b[0;32mnot\u001b[0m \u001b[0;32mNone\u001b[0m\u001b[0;34m:\u001b[0m\u001b[0;34m\u001b[0m\u001b[0;34m\u001b[0m\u001b[0m\n\u001b[1;32m    857\u001b[0m       \u001b[0;31m# Release the lock early so that multiple threads can perform the call\u001b[0m\u001b[0;34m\u001b[0m\u001b[0;34m\u001b[0m\u001b[0;34m\u001b[0m\u001b[0m\n",
      "\u001b[0;32m/usr/local/lib/python3.7/dist-packages/tensorflow/python/eager/function.py\u001b[0m in \u001b[0;36m__call__\u001b[0;34m(self, *args, **kwargs)\u001b[0m\n\u001b[1;32m   2941\u001b[0m        filtered_flat_args) = self._maybe_define_function(args, kwargs)\n\u001b[1;32m   2942\u001b[0m     return graph_function._call_flat(\n\u001b[0;32m-> 2943\u001b[0;31m         filtered_flat_args, captured_inputs=graph_function.captured_inputs)  # pylint: disable=protected-access\n\u001b[0m\u001b[1;32m   2944\u001b[0m \u001b[0;34m\u001b[0m\u001b[0m\n\u001b[1;32m   2945\u001b[0m   \u001b[0;34m@\u001b[0m\u001b[0mproperty\u001b[0m\u001b[0;34m\u001b[0m\u001b[0;34m\u001b[0m\u001b[0m\n",
      "\u001b[0;32m/usr/local/lib/python3.7/dist-packages/tensorflow/python/eager/function.py\u001b[0m in \u001b[0;36m_call_flat\u001b[0;34m(self, args, captured_inputs, cancellation_manager)\u001b[0m\n\u001b[1;32m   1917\u001b[0m       \u001b[0;31m# No tape is watching; skip to running the function.\u001b[0m\u001b[0;34m\u001b[0m\u001b[0;34m\u001b[0m\u001b[0;34m\u001b[0m\u001b[0m\n\u001b[1;32m   1918\u001b[0m       return self._build_call_outputs(self._inference_function.call(\n\u001b[0;32m-> 1919\u001b[0;31m           ctx, args, cancellation_manager=cancellation_manager))\n\u001b[0m\u001b[1;32m   1920\u001b[0m     forward_backward = self._select_forward_and_backward_functions(\n\u001b[1;32m   1921\u001b[0m         \u001b[0margs\u001b[0m\u001b[0;34m,\u001b[0m\u001b[0;34m\u001b[0m\u001b[0;34m\u001b[0m\u001b[0m\n",
      "\u001b[0;32m/usr/local/lib/python3.7/dist-packages/tensorflow/python/eager/function.py\u001b[0m in \u001b[0;36mcall\u001b[0;34m(self, ctx, args, cancellation_manager)\u001b[0m\n\u001b[1;32m    558\u001b[0m               \u001b[0minputs\u001b[0m\u001b[0;34m=\u001b[0m\u001b[0margs\u001b[0m\u001b[0;34m,\u001b[0m\u001b[0;34m\u001b[0m\u001b[0;34m\u001b[0m\u001b[0m\n\u001b[1;32m    559\u001b[0m               \u001b[0mattrs\u001b[0m\u001b[0;34m=\u001b[0m\u001b[0mattrs\u001b[0m\u001b[0;34m,\u001b[0m\u001b[0;34m\u001b[0m\u001b[0;34m\u001b[0m\u001b[0m\n\u001b[0;32m--> 560\u001b[0;31m               ctx=ctx)\n\u001b[0m\u001b[1;32m    561\u001b[0m         \u001b[0;32melse\u001b[0m\u001b[0;34m:\u001b[0m\u001b[0;34m\u001b[0m\u001b[0;34m\u001b[0m\u001b[0m\n\u001b[1;32m    562\u001b[0m           outputs = execute.execute_with_cancellation(\n",
      "\u001b[0;32m/usr/local/lib/python3.7/dist-packages/tensorflow/python/eager/execute.py\u001b[0m in \u001b[0;36mquick_execute\u001b[0;34m(op_name, num_outputs, inputs, attrs, ctx, name)\u001b[0m\n\u001b[1;32m     58\u001b[0m     \u001b[0mctx\u001b[0m\u001b[0;34m.\u001b[0m\u001b[0mensure_initialized\u001b[0m\u001b[0;34m(\u001b[0m\u001b[0;34m)\u001b[0m\u001b[0;34m\u001b[0m\u001b[0;34m\u001b[0m\u001b[0m\n\u001b[1;32m     59\u001b[0m     tensors = pywrap_tfe.TFE_Py_Execute(ctx._handle, device_name, op_name,\n\u001b[0;32m---> 60\u001b[0;31m                                         inputs, attrs, num_outputs)\n\u001b[0m\u001b[1;32m     61\u001b[0m   \u001b[0;32mexcept\u001b[0m \u001b[0mcore\u001b[0m\u001b[0;34m.\u001b[0m\u001b[0m_NotOkStatusException\u001b[0m \u001b[0;32mas\u001b[0m \u001b[0me\u001b[0m\u001b[0;34m:\u001b[0m\u001b[0;34m\u001b[0m\u001b[0;34m\u001b[0m\u001b[0m\n\u001b[1;32m     62\u001b[0m     \u001b[0;32mif\u001b[0m \u001b[0mname\u001b[0m \u001b[0;32mis\u001b[0m \u001b[0;32mnot\u001b[0m \u001b[0;32mNone\u001b[0m\u001b[0;34m:\u001b[0m\u001b[0;34m\u001b[0m\u001b[0;34m\u001b[0m\u001b[0m\n",
      "\u001b[0;31mKeyboardInterrupt\u001b[0m: "
     ]
    }
   ],
   "source": [
    "STEP_SIZE_TRAIN=training_set.n//training_set.batch_size\n",
    "STEP_SIZE_VALID=valid_generator.n//valid_generator.batch_size\n",
    "model = Sequential()\n",
    "\n",
    "Lambda(norm_input, input_shape=(50, 50, 3)),\n",
    "model.add(Conv2D(32, (5, 5), activation='relu', padding='same', input_shape=(50, 50, 3), strides=(2, 2)))\n",
    "model.add(Conv2D(32, (5, 5), activation='relu', padding='same', strides=(2, 2)))\n",
    "model.add(BatchNormalization(axis=3))\n",
    "model.add(Dropout(0.25))\n",
    "\n",
    "model.add(Conv2D(64, (3, 3), activation='relu', padding='same'))\n",
    "model.add(Conv2D(64, (3, 3), activation='relu', padding='same'))\n",
    "model.add(MaxPooling2D(pool_size=(2, 2)))\n",
    "model.add(Dropout(0.25))\n",
    "\n",
    "model.add(Conv2D(128, (3, 3), activation='relu', padding='same'))\n",
    "model.add(Conv2D(128, (3, 3), activation='relu', padding='same'))\n",
    "model.add(BatchNormalization(axis=3))\n",
    "model.add(Dropout(0.25))\n",
    "\n",
    "model.add(Conv2D(128, (3, 3), activation='relu', padding='same'))\n",
    "model.add(Conv2D(128, (3, 3), activation='relu', padding='same'))\n",
    "model.add(MaxPooling2D(pool_size=(2, 2)))\n",
    "\n",
    "\n",
    "model.add(Flatten())\n",
    "model.add(Dense(512, activation='relu'))\n",
    "model.add(BatchNormalization())\n",
    "model.add(Dropout(0.5))\n",
    "model.add(Dense(512, activation='relu'))\n",
    "model.add(BatchNormalization())\n",
    "model.add(Dropout(0.5))\n",
    "model.add(Dense(29, activation='softmax'))\n",
    "\n",
    "\n",
    "model.compile(optimizer = 'adam', loss = 'categorical_crossentropy' , metrics = ['accuracy'])\n",
    "\n",
    "# simple early stopping\n",
    "es = EarlyStopping(monitor='val_loss', mode='min', verbose=1, patience=7)\n",
    "check = ModelCheckpoint(\"check.h5\", monitor='val_loss',save_best_only=True)\n",
    "\n",
    "#model = Model(inputs=input, outputs=output)\n",
    "history = model.fit_generator(generator=training_set,\n",
    "                    steps_per_epoch=STEP_SIZE_TRAIN,\n",
    "                    validation_data=valid_generator,\n",
    "                    validation_steps=STEP_SIZE_VALID,\n",
    "                    epochs=100,\n",
    "                    callbacks=[check, es]\n",
    ")"
   ]
  },
  {
   "cell_type": "code",
   "execution_count": null,
   "metadata": {
    "id": "h0pcAGme0Iql"
   },
   "outputs": [],
   "source": [
    "model.save('history.h5')"
   ]
  },
  {
   "cell_type": "markdown",
   "metadata": {
    "id": "EwjnraIb7uMS"
   },
   "source": [
    "## Model Summary\n",
    "\n",
    "Plot the Accuracy and Loss with the Epochs to visualize the evolution of the model."
   ]
  },
  {
   "cell_type": "code",
   "execution_count": null,
   "metadata": {
    "id": "-VdBD81bL3F6"
   },
   "outputs": [],
   "source": [
    "plt.plot(history.history['accuracy'])\n",
    "plt.plot(history.history['val_accuracy'])\n",
    "plt.title('Model Accuracy')\n",
    "plt.ylabel('Accuracy')\n",
    "plt.xlabel('Epoch')\n",
    "plt.legend(['Train', 'Val'], loc='upper left')\n",
    "plt.show()\n",
    "plt.savefig('/content/drive/MyDrive/Proyecto ropa')"
   ]
  },
  {
   "cell_type": "code",
   "execution_count": null,
   "metadata": {
    "colab": {
     "base_uri": "https://localhost:8080/",
     "height": 269
    },
    "id": "AEIdrWcLI_TN",
    "outputId": "0fc5c27b-b95e-4fe8-ef98-4d99dd4f4dff"
   },
   "outputs": [
    {
     "data": {
      "image/png": "[encoded data removed]",
      "text/plain": [
       "<Figure size 432x288 with 1 Axes>"
      ]
     },
     "metadata": {
      "needs_background": "light",
      "tags": []
     },
     "output_type": "display_data"
    }
   ],
   "source": [
    "import cv2\n",
    "\n",
    "img = cv2.imread(\"/content/drive/MyDrive/Proyecto ropa/Colab Notebooks/Accuracy.png\")\n",
    "#img_cvt=cv2.cvtColor(img, cv2.COLOR_BGR2RGB)\n",
    "plt.imshow(img)\n",
    "plt.show()"
   ]
  },
  {
   "cell_type": "code",
   "execution_count": null,
   "metadata": {
    "colab": {
     "base_uri": "https://localhost:8080/",
     "height": 312
    },
    "id": "chMjiMDzMxBz",
    "outputId": "af8c7b38-6c91-4b53-9cb3-318888332dbf"
   },
   "outputs": [
    {
     "data": {
      "image/png": "[encoded data removed]",
      "text/plain": [
       "<Figure size 432x288 with 1 Axes>"
      ]
     },
     "metadata": {
      "needs_background": "light",
      "tags": []
     },
     "output_type": "display_data"
    },
    {
     "data": {
      "text/plain": [
       "<Figure size 432x288 with 0 Axes>"
      ]
     },
     "metadata": {
      "tags": []
     },
     "output_type": "display_data"
    }
   ],
   "source": [
    "plt.plot(history.history['loss'])\n",
    "plt.plot(history.history['val_loss'])\n",
    "plt.title('Model Loss')\n",
    "plt.ylabel('Loss')\n",
    "plt.xlabel('Epoch')\n",
    "plt.legend(['Train', 'Val'], loc='upper right')\n",
    "plt.show()\n",
    "plt.savefig('/content/drive/MyDrive/Proyecto ropa')"
   ]
  },
  {
   "cell_type": "markdown",
   "metadata": {
    "id": "eTaEAvSb8Csu"
   },
   "source": [
    "Save the model in the Drive and download it to the local storage. Display the summary of the architecture of the model with the layers that construct it."
   ]
  },
  {
   "cell_type": "code",
   "execution_count": null,
   "metadata": {
    "id": "Hxp9PiUIRUXx"
   },
   "outputs": [],
   "source": [
    "model.save('Model.h5')"
   ]
  },
  {
   "cell_type": "code",
   "execution_count": null,
   "metadata": {
    "colab": {
     "base_uri": "https://localhost:8080/"
    },
    "id": "Z5MUyvM86fZP",
    "outputId": "52c4eb38-a05f-443f-fe43-38f526b76470"
   },
   "outputs": [
    {
     "name": "stdout",
     "output_type": "stream",
     "text": [
      "Model: \"sequential\"\n",
      "_________________________________________________________________\n",
      "Layer (type)                 Output Shape              Param #   \n",
      "=================================================================\n",
      "conv2d (Conv2D)              (None, 25, 25, 32)        2432      \n",
      "_________________________________________________________________\n",
      "conv2d_1 (Conv2D)            (None, 13, 13, 32)        25632     \n",
      "_________________________________________________________________\n",
      "batch_normalization (BatchNo (None, 13, 13, 32)        128       \n",
      "_________________________________________________________________\n",
      "dropout (Dropout)            (None, 13, 13, 32)        0         \n",
      "_________________________________________________________________\n",
      "conv2d_2 (Conv2D)            (None, 13, 13, 64)        18496     \n",
      "_________________________________________________________________\n",
      "conv2d_3 (Conv2D)            (None, 13, 13, 64)        36928     \n",
      "_________________________________________________________________\n",
      "max_pooling2d (MaxPooling2D) (None, 6, 6, 64)          0         \n",
      "_________________________________________________________________\n",
      "dropout_1 (Dropout)          (None, 6, 6, 64)          0         \n",
      "_________________________________________________________________\n",
      "conv2d_4 (Conv2D)            (None, 6, 6, 128)         73856     \n",
      "_________________________________________________________________\n",
      "conv2d_5 (Conv2D)            (None, 6, 6, 128)         147584    \n",
      "_________________________________________________________________\n",
      "batch_normalization_1 (Batch (None, 6, 6, 128)         512       \n",
      "_________________________________________________________________\n",
      "dropout_2 (Dropout)          (None, 6, 6, 128)         0         \n",
      "_________________________________________________________________\n",
      "conv2d_6 (Conv2D)            (None, 6, 6, 128)         147584    \n",
      "_________________________________________________________________\n",
      "conv2d_7 (Conv2D)            (None, 6, 6, 128)         147584    \n",
      "_________________________________________________________________\n",
      "max_pooling2d_1 (MaxPooling2 (None, 3, 3, 128)         0         \n",
      "_________________________________________________________________\n",
      "flatten (Flatten)            (None, 1152)              0         \n",
      "_________________________________________________________________\n",
      "dense (Dense)                (None, 512)               590336    \n",
      "_________________________________________________________________\n",
      "batch_normalization_2 (Batch (None, 512)               2048      \n",
      "_________________________________________________________________\n",
      "dropout_3 (Dropout)          (None, 512)               0         \n",
      "_________________________________________________________________\n",
      "dense_1 (Dense)              (None, 512)               262656    \n",
      "_________________________________________________________________\n",
      "batch_normalization_3 (Batch (None, 512)               2048      \n",
      "_________________________________________________________________\n",
      "dropout_4 (Dropout)          (None, 512)               0         \n",
      "_________________________________________________________________\n",
      "dense_2 (Dense)              (None, 29)                14877     \n",
      "=================================================================\n",
      "Total params: 1,472,701\n",
      "Trainable params: 1,470,333\n",
      "Non-trainable params: 2,368\n",
      "_________________________________________________________________\n"
     ]
    }
   ],
   "source": [
    "model.summary()"
   ]
  },
  {
   "cell_type": "markdown",
   "metadata": {
    "id": "zMCWqP4eAzO2"
   },
   "source": [
    "## Testing of the model\n",
    "\n",
    "We upload an image from google of a watch through google.colab"
   ]
  },
  {
   "cell_type": "code",
   "execution_count": null,
   "metadata": {
    "colab": {
     "base_uri": "https://localhost:8080/",
     "height": 72,
     "resources": {
      "http://localhost:8080/nbextensions/google.colab/files.js": {
       "data": "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",
       "headers": [
        [
         "content-type",
         "application/javascript"
        ]
       ],
       "ok": true,
       "status": 200,
       "status_text": ""
      }
     }
    },
    "id": "1rw1325eb9Fh",
    "outputId": "06668b83-cf4d-45a5-9763-92279fae3378"
   },
   "outputs": [
    {
     "data": {
      "text/html": [
       "\n",
       "     <input type=\"file\" id=\"files-981ad904-c3be-48ca-804e-1f298dbd8421\" name=\"files[]\" multiple disabled\n",
       "        style=\"border:none\" />\n",
       "     <output id=\"result-981ad904-c3be-48ca-804e-1f298dbd8421\">\n",
       "      Upload widget is only available when the cell has been executed in the\n",
       "      current browser session. Please rerun this cell to enable.\n",
       "      </output>\n",
       "      <script src=\"/nbextensions/google.colab/files.js\"></script> "
      ],
      "text/plain": [
       "<IPython.core.display.HTML object>"
      ]
     },
     "metadata": {
      "tags": []
     },
     "output_type": "display_data"
    },
    {
     "name": "stdout",
     "output_type": "stream",
     "text": [
      "Saving watch2_test.jfif to watch2_test.jfif\n"
     ]
    }
   ],
   "source": [
    "from google.colab import files\n",
    "uploaded = files.upload()"
   ]
  },
  {
   "cell_type": "code",
   "execution_count": null,
   "metadata": {
    "colab": {
     "base_uri": "https://localhost:8080/",
     "height": 269
    },
    "id": "kFsSsjZrlIys",
    "outputId": "7cea0584-132b-40e6-c723-183b0ebaadc8"
   },
   "outputs": [
    {
     "data": {
      "image/png": "[encoded data removed]",
      "text/plain": [
       "<Figure size 432x288 with 1 Axes>"
      ]
     },
     "metadata": {
      "needs_background": "light",
      "tags": []
     },
     "output_type": "display_data"
    }
   ],
   "source": [
    "new_image = plt.imread('watch2_test.jfif')\n",
    "img = plt.imshow(new_image)\n"
   ]
  },
  {
   "cell_type": "markdown",
   "metadata": {
    "id": "Xoy1mpqnA_6D"
   },
   "source": [
    "Resize the image to match the input of the model (50, 50, 3)"
   ]
  },
  {
   "cell_type": "code",
   "execution_count": null,
   "metadata": {
    "colab": {
     "base_uri": "https://localhost:8080/",
     "height": 267
    },
    "id": "qxtDe0UBliCQ",
    "outputId": "b4d32a0a-bb30-4595-aa77-d1e76fe94da3"
   },
   "outputs": [
    {
     "data": {
      "image/png": "[encoded data removed]",
      "text/plain": [
       "<Figure size 432x288 with 1 Axes>"
      ]
     },
     "metadata": {
      "needs_background": "light",
      "tags": []
     },
     "output_type": "display_data"
    }
   ],
   "source": [
    "#Resize the image\n",
    "from skimage.transform import resize\n",
    "resized_image = resize(new_image, (50, 50, 3))\n",
    "img = plt.imshow(resized_image)"
   ]
  },
  {
   "cell_type": "markdown",
   "metadata": {
    "id": "MPkuYLzmBG4S"
   },
   "source": [
    "Run the model to predict the category of the image given. This results in an array with 29 different slots, the one with the highest value represents the models prediction."
   ]
  },
  {
   "cell_type": "code",
   "execution_count": null,
   "metadata": {
    "colab": {
     "base_uri": "https://localhost:8080/"
    },
    "id": "gRYaWtXgmQH8",
    "outputId": "a4f43a20-4b9e-4a15-95c5-fa12def3ddc5"
   },
   "outputs": [
    {
     "data": {
      "text/plain": [
       "array([[1.4344568e-04, 2.5195770e-06, 1.4853532e-06, 7.7916161e-07,\n",
       "        1.0111430e-06, 3.6681697e-06, 8.2539520e-07, 1.3316562e-04,\n",
       "        2.2473587e-03, 1.1742073e-05, 1.1972271e-05, 1.7467944e-07,\n",
       "        2.1857915e-05, 2.9567536e-06, 3.8914714e-06, 4.0251977e-04,\n",
       "        1.7769552e-06, 2.8748281e-04, 3.9187979e-04, 4.9229948e-07,\n",
       "        5.0719427e-03, 1.5540425e-04, 3.9034580e-06, 3.1401171e-06,\n",
       "        2.3516766e-05, 8.0819736e-04, 7.9070478e-06, 9.3112059e-05,\n",
       "        9.9016190e-01]], dtype=float32)"
      ]
     },
     "execution_count": 158,
     "metadata": {
      "tags": []
     },
     "output_type": "execute_result"
    }
   ],
   "source": [
    "#get the models predictions\n",
    "predictions = model.predict(np.array([resized_image]))\n",
    "#Show the predictions\n",
    "predictions"
   ]
  },
  {
   "cell_type": "markdown",
   "metadata": {
    "id": "6U_wTZWrBa7P"
   },
   "source": [
    "Sort the array from highest to lowest and define what category is the one with the highest probability. In this case it corresponds to the category 28, which is in fact wristwatch. The prediction worked!"
   ]
  },
  {
   "cell_type": "code",
   "execution_count": null,
   "metadata": {
    "colab": {
     "base_uri": "https://localhost:8080/"
    },
    "id": "vYxSptggmf-M",
    "outputId": "9c1f16d9-1335-46c8-bebc-321d8f0129fa"
   },
   "outputs": [
    {
     "name": "stdout",
     "output_type": "stream",
     "text": [
      "[28, 20, 8, 25, 15, 18, 17, 21, 0, 7, 27, 24, 12, 10, 9, 26, 22, 14, 5, 23, 13, 1, 16, 2, 4, 6, 3, 19, 11]\n"
     ]
    }
   ],
   "source": [
    "#Sort the predictions from leasto to greatest\n",
    "list_index = [0, 1, 2, 3, 4, 5, 6, 7, 8, 9, 10, 11, 12, 13, 14, 15, 16, 17, 18, 19, 20, 21, 22, 23, 24, 25, 26, 27, 28]\n",
    "x = predictions\n",
    "\n",
    "for i in range(29):\n",
    "  for j in range(29):\n",
    "    if x[0][list_index[i]] > x[0][list_index[j]]:\n",
    "      temp = list_index[i]\n",
    "      list_index[i] = list_index[j]\n",
    "      list_index[j] = temp\n",
    "\n",
    "#Show the sorted labels in order\n",
    "print(list_index)\n"
   ]
  },
  {
   "cell_type": "markdown",
   "metadata": {
    "id": "UcZsIMei8kyu"
   },
   "source": [
    "## Transfer Learning\n",
    "\n",
    "In this section we use a pretrained model called (95Model.h5) that was trained using the Fashion-MNIST Dataset. This Dataset consists of 60000 images with a size of (28, 28, 1) meaning that we have to resize our own Dataset and transform it to grayscale, 1 channel. "
   ]
  },
  {
   "cell_type": "code",
   "execution_count": null,
   "metadata": {
    "id": "B1X8p2tPLt4X"
   },
   "outputs": [],
   "source": [
    "model = tf.keras.models.load_model('/content/drive/MyDrive/Proyecto ropa/Colab Notebooks/history.h5')\n"
   ]
  },
  {
   "cell_type": "code",
   "execution_count": null,
   "metadata": {
    "id": "NVBNHBvsTomv"
   },
   "outputs": [],
   "source": [
    "model_new = load_model(\"/content/drive/MyDrive/Proyecto ropa/Colab Notebooks/91Model.h5\")"
   ]
  },
  {
   "cell_type": "markdown",
   "metadata": {
    "id": "OXHWhmH59Xdb"
   },
   "source": [
    "A summary of the given model is shown below."
   ]
  },
  {
   "cell_type": "code",
   "execution_count": null,
   "metadata": {
    "colab": {
     "base_uri": "https://localhost:8080/"
    },
    "id": "GmKXT_6jT3_d",
    "outputId": "c64c551d-d699-43b2-9d54-d40e624c40bf"
   },
   "outputs": [
    {
     "name": "stdout",
     "output_type": "stream",
     "text": [
      "Model: \"sequential_7\"\n",
      "_________________________________________________________________\n",
      "Layer (type)                 Output Shape              Param #   \n",
      "=================================================================\n",
      "conv2d_12 (Conv2D)           (None, 26, 26, 64)        640       \n",
      "_________________________________________________________________\n",
      "max_pooling2d_11 (MaxPooling (None, 13, 13, 64)        0         \n",
      "_________________________________________________________________\n",
      "conv2d_13 (Conv2D)           (None, 11, 11, 128)       73856     \n",
      "_________________________________________________________________\n",
      "max_pooling2d_12 (MaxPooling (None, 5, 5, 128)         0         \n",
      "_________________________________________________________________\n",
      "flatten_7 (Flatten)          (None, 3200)              0         \n",
      "_________________________________________________________________\n",
      "dense_15 (Dense)             (None, 256)               819456    \n",
      "_________________________________________________________________\n",
      "dense_16 (Dense)             (None, 10)                2570      \n",
      "=================================================================\n",
      "Total params: 896,522\n",
      "Trainable params: 896,522\n",
      "Non-trainable params: 0\n",
      "_________________________________________________________________\n"
     ]
    }
   ],
   "source": [
    "model_new.summary()"
   ]
  },
  {
   "cell_type": "markdown",
   "metadata": {
    "id": "0IFOSgn895pM"
   },
   "source": [
    "The model consists of 7 layers, with only 2 Conv2D layers. The model was trained to classify between 10 different categories. As our task for the model needs to classify for our given 29 categories, we need to take out the last two Dense layers and continue the model from there. We also set all the layers to trainable, this step is just to make sure they are not freezed."
   ]
  },
  {
   "cell_type": "code",
   "execution_count": null,
   "metadata": {
    "id": "IXk_HwBWnbEw"
   },
   "outputs": [],
   "source": [
    "model.trainable = True"
   ]
  },
  {
   "cell_type": "markdown",
   "metadata": {
    "id": "By1loZes-kNl"
   },
   "source": [
    "As we are not going to need the last layer we just call the pop() function twice to delete the last two layers of the model."
   ]
  },
  {
   "cell_type": "code",
   "execution_count": null,
   "metadata": {
    "id": "7xZcAZY1GFuT"
   },
   "outputs": [],
   "source": [
    "#model_new.pop()"
   ]
  },
  {
   "cell_type": "code",
   "execution_count": null,
   "metadata": {
    "colab": {
     "base_uri": "https://localhost:8080/"
    },
    "id": "LZjEQvWLKw21",
    "outputId": "7f6b1cde-676a-46fe-ca13-6664e1debebc"
   },
   "outputs": [
    {
     "name": "stdout",
     "output_type": "stream",
     "text": [
      "Model: \"sequential_7\"\n",
      "_________________________________________________________________\n",
      "Layer (type)                 Output Shape              Param #   \n",
      "=================================================================\n",
      "conv2d_12 (Conv2D)           (None, 26, 26, 64)        640       \n",
      "_________________________________________________________________\n",
      "max_pooling2d_11 (MaxPooling (None, 13, 13, 64)        0         \n",
      "_________________________________________________________________\n",
      "conv2d_13 (Conv2D)           (None, 11, 11, 128)       73856     \n",
      "_________________________________________________________________\n",
      "max_pooling2d_12 (MaxPooling (None, 5, 5, 128)         0         \n",
      "_________________________________________________________________\n",
      "flatten_7 (Flatten)          (None, 3200)              0         \n",
      "=================================================================\n",
      "Total params: 74,496\n",
      "Trainable params: 0\n",
      "Non-trainable params: 74,496\n",
      "_________________________________________________________________\n"
     ]
    }
   ],
   "source": [
    "model_new.summary()"
   ]
  },
  {
   "cell_type": "markdown",
   "metadata": {
    "id": "L5DmsRnW-t7Z"
   },
   "source": [
    "Now the last layer is the Flatten. The next step is to modify our own Dataset so that the images will have a size of (28, 28, 1). We also run the images through a ImageDataGenerator to make small modifications to the images helping the model to achieve a better fit."
   ]
  },
  {
   "cell_type": "code",
   "execution_count": null,
   "metadata": {
    "id": "iFI6TxGqfFYO"
   },
   "outputs": [],
   "source": [
    "def to_grayscale(image):\n",
    "  image = cv2.cvtColor(image, cv2.COLOR_BGR2GRAY)\n",
    "  return image\n",
    "\n",
    "model_new."
   ]
  },
  {
   "cell_type": "code",
   "execution_count": null,
   "metadata": {
    "colab": {
     "base_uri": "https://localhost:8080/"
    },
    "id": "62dNKeQcMgq4",
    "outputId": "4c62bda0-bad2-4510-b33f-63f513496074"
   },
   "outputs": [
    {
     "name": "stdout",
     "output_type": "stream",
     "text": [
      "Found 7502 images belonging to 29 classes.\n",
      "Found 928 images belonging to 29 classes.\n",
      "Found 964 images belonging to 29 classes.\n"
     ]
    }
   ],
   "source": [
    "'''def myFunc(image):\n",
    "    image = np.array(image)\n",
    "    converted_img = rgb_to_cmyk(image)\n",
    "    converted_img /= 255\n",
    "    return converted_img'''\n",
    "\n",
    "def to_grayscale(image):\n",
    "  image = tf.image.rgb_to_grayscale(image)\n",
    "  return image\n",
    "\n",
    "#def to_grayscale(image):\n",
    "  #image = cv2.cvtColor(image, cv2.COLOR_BGR2GRAY)\n",
    "  #return image  \n",
    "\n",
    "train_datagen = ImageDataGenerator(rescale = 1./255,\n",
    "                                   shear_range=0.2,\n",
    "                                   zoom_range=0.2,\n",
    "                                   horizontal_flip=True,\n",
    "                                   preprocessing_function=None)\n",
    "\n",
    "valid_datagen = ImageDataGenerator(rescale = 1./255,\n",
    "                                   shear_range=0.2,\n",
    "                                   zoom_range=0.2,\n",
    "                                   horizontal_flip=True,\n",
    "                                   preprocessing_function=None)\n",
    "\n",
    "test_datagen = ImageDataGenerator(rescale = 1./255,\n",
    "                                  preprocessing_function=None)\n",
    "\n",
    "training_set_2 = train_datagen.flow_from_directory(\n",
    "    \"/content/drive/MyDrive/Proyecto ropa/output/train\",\n",
    "      target_size = (28, 28),\n",
    "      color_mode ='grayscale',\n",
    "      batch_size = 16,\n",
    "      class_mode = 'categorical',\n",
    "      shuffle = True,\n",
    "      seed = 42\n",
    ")\n",
    "\n",
    "valid_generator_2 = valid_datagen.flow_from_directory(\n",
    "    directory=r\"/content/drive/MyDrive/Proyecto ropa/output/val\",\n",
    "    target_size=(28, 28),\n",
    "    color_mode='grayscale',\n",
    "    batch_size=16,\n",
    "    class_mode=\"categorical\",\n",
    "    shuffle=True,\n",
    "    seed=42\n",
    ")\n",
    "\n",
    "test_set_2 = test_datagen.flow_from_directory(\n",
    "    '/content/drive/MyDrive/Proyecto ropa/output/test',\n",
    "     target_size = (28, 28),\n",
    "     batch_size = 1,\n",
    "     shuffle = False,\n",
    "     seed = 42,\n",
    "     class_mode = None)"
   ]
  },
  {
   "cell_type": "code",
   "execution_count": null,
   "metadata": {
    "colab": {
     "base_uri": "https://localhost:8080/",
     "height": 558
    },
    "id": "1ln2GHcSRJ03",
    "outputId": "07572d56-2586-48fc-8b31-ed37ae47c885"
   },
   "outputs": [
    {
     "ename": "TypeError",
     "evalue": "ignored",
     "output_type": "error",
     "traceback": [
      "\u001b[0;31m---------------------------------------------------------------------------\u001b[0m",
      "\u001b[0;31mTypeError\u001b[0m                                 Traceback (most recent call last)",
      "\u001b[0;32m<ipython-input-138-45797c7af2fb>\u001b[0m in \u001b[0;36m<module>\u001b[0;34m()\u001b[0m\n\u001b[0;32m----> 1\u001b[0;31m \u001b[0mimg2\u001b[0m \u001b[0;34m=\u001b[0m \u001b[0mplt\u001b[0m\u001b[0;34m.\u001b[0m\u001b[0mimshow\u001b[0m\u001b[0;34m(\u001b[0m\u001b[0mtraining_set_2\u001b[0m\u001b[0;34m[\u001b[0m\u001b[0;36m0\u001b[0m\u001b[0;34m]\u001b[0m\u001b[0;34m[\u001b[0m\u001b[0;36m0\u001b[0m\u001b[0;34m]\u001b[0m\u001b[0;34m[\u001b[0m\u001b[0;36m0\u001b[0m\u001b[0;34m]\u001b[0m\u001b[0;34m,\u001b[0m \u001b[0mcmap\u001b[0m\u001b[0;34m=\u001b[0m\u001b[0;34m'gray'\u001b[0m\u001b[0;34m)\u001b[0m\u001b[0;34m\u001b[0m\u001b[0;34m\u001b[0m\u001b[0m\n\u001b[0m",
      "\u001b[0;32m/usr/local/lib/python3.7/dist-packages/matplotlib/pyplot.py\u001b[0m in \u001b[0;36mimshow\u001b[0;34m(X, cmap, norm, aspect, interpolation, alpha, vmin, vmax, origin, extent, shape, filternorm, filterrad, imlim, resample, url, data, **kwargs)\u001b[0m\n\u001b[1;32m   2649\u001b[0m         \u001b[0mfilternorm\u001b[0m\u001b[0;34m=\u001b[0m\u001b[0mfilternorm\u001b[0m\u001b[0;34m,\u001b[0m \u001b[0mfilterrad\u001b[0m\u001b[0;34m=\u001b[0m\u001b[0mfilterrad\u001b[0m\u001b[0;34m,\u001b[0m \u001b[0mimlim\u001b[0m\u001b[0;34m=\u001b[0m\u001b[0mimlim\u001b[0m\u001b[0;34m,\u001b[0m\u001b[0;34m\u001b[0m\u001b[0;34m\u001b[0m\u001b[0m\n\u001b[1;32m   2650\u001b[0m         resample=resample, url=url, **({\"data\": data} if data is not\n\u001b[0;32m-> 2651\u001b[0;31m         None else {}), **kwargs)\n\u001b[0m\u001b[1;32m   2652\u001b[0m     \u001b[0msci\u001b[0m\u001b[0;34m(\u001b[0m\u001b[0m__ret\u001b[0m\u001b[0;34m)\u001b[0m\u001b[0;34m\u001b[0m\u001b[0;34m\u001b[0m\u001b[0m\n\u001b[1;32m   2653\u001b[0m     \u001b[0;32mreturn\u001b[0m \u001b[0m__ret\u001b[0m\u001b[0;34m\u001b[0m\u001b[0;34m\u001b[0m\u001b[0m\n",
      "\u001b[0;32m/usr/local/lib/python3.7/dist-packages/matplotlib/__init__.py\u001b[0m in \u001b[0;36minner\u001b[0;34m(ax, data, *args, **kwargs)\u001b[0m\n\u001b[1;32m   1563\u001b[0m     \u001b[0;32mdef\u001b[0m \u001b[0minner\u001b[0m\u001b[0;34m(\u001b[0m\u001b[0max\u001b[0m\u001b[0;34m,\u001b[0m \u001b[0;34m*\u001b[0m\u001b[0margs\u001b[0m\u001b[0;34m,\u001b[0m \u001b[0mdata\u001b[0m\u001b[0;34m=\u001b[0m\u001b[0;32mNone\u001b[0m\u001b[0;34m,\u001b[0m \u001b[0;34m**\u001b[0m\u001b[0mkwargs\u001b[0m\u001b[0;34m)\u001b[0m\u001b[0;34m:\u001b[0m\u001b[0;34m\u001b[0m\u001b[0;34m\u001b[0m\u001b[0m\n\u001b[1;32m   1564\u001b[0m         \u001b[0;32mif\u001b[0m \u001b[0mdata\u001b[0m \u001b[0;32mis\u001b[0m \u001b[0;32mNone\u001b[0m\u001b[0;34m:\u001b[0m\u001b[0;34m\u001b[0m\u001b[0;34m\u001b[0m\u001b[0m\n\u001b[0;32m-> 1565\u001b[0;31m             \u001b[0;32mreturn\u001b[0m \u001b[0mfunc\u001b[0m\u001b[0;34m(\u001b[0m\u001b[0max\u001b[0m\u001b[0;34m,\u001b[0m \u001b[0;34m*\u001b[0m\u001b[0mmap\u001b[0m\u001b[0;34m(\u001b[0m\u001b[0msanitize_sequence\u001b[0m\u001b[0;34m,\u001b[0m \u001b[0margs\u001b[0m\u001b[0;34m)\u001b[0m\u001b[0;34m,\u001b[0m \u001b[0;34m**\u001b[0m\u001b[0mkwargs\u001b[0m\u001b[0;34m)\u001b[0m\u001b[0;34m\u001b[0m\u001b[0;34m\u001b[0m\u001b[0m\n\u001b[0m\u001b[1;32m   1566\u001b[0m \u001b[0;34m\u001b[0m\u001b[0m\n\u001b[1;32m   1567\u001b[0m         \u001b[0mbound\u001b[0m \u001b[0;34m=\u001b[0m \u001b[0mnew_sig\u001b[0m\u001b[0;34m.\u001b[0m\u001b[0mbind\u001b[0m\u001b[0;34m(\u001b[0m\u001b[0max\u001b[0m\u001b[0;34m,\u001b[0m \u001b[0;34m*\u001b[0m\u001b[0margs\u001b[0m\u001b[0;34m,\u001b[0m \u001b[0;34m**\u001b[0m\u001b[0mkwargs\u001b[0m\u001b[0;34m)\u001b[0m\u001b[0;34m\u001b[0m\u001b[0;34m\u001b[0m\u001b[0m\n",
      "\u001b[0;32m/usr/local/lib/python3.7/dist-packages/matplotlib/cbook/deprecation.py\u001b[0m in \u001b[0;36mwrapper\u001b[0;34m(*args, **kwargs)\u001b[0m\n\u001b[1;32m    356\u001b[0m                 \u001b[0;34mf\"%(removal)s.  If any parameter follows {name!r}, they \"\u001b[0m\u001b[0;34m\u001b[0m\u001b[0;34m\u001b[0m\u001b[0m\n\u001b[1;32m    357\u001b[0m                 f\"should be pass as keyword, not positionally.\")\n\u001b[0;32m--> 358\u001b[0;31m         \u001b[0;32mreturn\u001b[0m \u001b[0mfunc\u001b[0m\u001b[0;34m(\u001b[0m\u001b[0;34m*\u001b[0m\u001b[0margs\u001b[0m\u001b[0;34m,\u001b[0m \u001b[0;34m**\u001b[0m\u001b[0mkwargs\u001b[0m\u001b[0;34m)\u001b[0m\u001b[0;34m\u001b[0m\u001b[0;34m\u001b[0m\u001b[0m\n\u001b[0m\u001b[1;32m    359\u001b[0m \u001b[0;34m\u001b[0m\u001b[0m\n\u001b[1;32m    360\u001b[0m     \u001b[0;32mreturn\u001b[0m \u001b[0mwrapper\u001b[0m\u001b[0;34m\u001b[0m\u001b[0;34m\u001b[0m\u001b[0m\n",
      "\u001b[0;32m/usr/local/lib/python3.7/dist-packages/matplotlib/cbook/deprecation.py\u001b[0m in \u001b[0;36mwrapper\u001b[0;34m(*args, **kwargs)\u001b[0m\n\u001b[1;32m    356\u001b[0m                 \u001b[0;34mf\"%(removal)s.  If any parameter follows {name!r}, they \"\u001b[0m\u001b[0;34m\u001b[0m\u001b[0;34m\u001b[0m\u001b[0m\n\u001b[1;32m    357\u001b[0m                 f\"should be pass as keyword, not positionally.\")\n\u001b[0;32m--> 358\u001b[0;31m         \u001b[0;32mreturn\u001b[0m \u001b[0mfunc\u001b[0m\u001b[0;34m(\u001b[0m\u001b[0;34m*\u001b[0m\u001b[0margs\u001b[0m\u001b[0;34m,\u001b[0m \u001b[0;34m**\u001b[0m\u001b[0mkwargs\u001b[0m\u001b[0;34m)\u001b[0m\u001b[0;34m\u001b[0m\u001b[0;34m\u001b[0m\u001b[0m\n\u001b[0m\u001b[1;32m    359\u001b[0m \u001b[0;34m\u001b[0m\u001b[0m\n\u001b[1;32m    360\u001b[0m     \u001b[0;32mreturn\u001b[0m \u001b[0mwrapper\u001b[0m\u001b[0;34m\u001b[0m\u001b[0;34m\u001b[0m\u001b[0m\n",
      "\u001b[0;32m/usr/local/lib/python3.7/dist-packages/matplotlib/axes/_axes.py\u001b[0m in \u001b[0;36mimshow\u001b[0;34m(self, X, cmap, norm, aspect, interpolation, alpha, vmin, vmax, origin, extent, shape, filternorm, filterrad, imlim, resample, url, **kwargs)\u001b[0m\n\u001b[1;32m   5624\u001b[0m                               resample=resample, **kwargs)\n\u001b[1;32m   5625\u001b[0m \u001b[0;34m\u001b[0m\u001b[0m\n\u001b[0;32m-> 5626\u001b[0;31m         \u001b[0mim\u001b[0m\u001b[0;34m.\u001b[0m\u001b[0mset_data\u001b[0m\u001b[0;34m(\u001b[0m\u001b[0mX\u001b[0m\u001b[0;34m)\u001b[0m\u001b[0;34m\u001b[0m\u001b[0;34m\u001b[0m\u001b[0m\n\u001b[0m\u001b[1;32m   5627\u001b[0m         \u001b[0mim\u001b[0m\u001b[0;34m.\u001b[0m\u001b[0mset_alpha\u001b[0m\u001b[0;34m(\u001b[0m\u001b[0malpha\u001b[0m\u001b[0;34m)\u001b[0m\u001b[0;34m\u001b[0m\u001b[0;34m\u001b[0m\u001b[0m\n\u001b[1;32m   5628\u001b[0m         \u001b[0;32mif\u001b[0m \u001b[0mim\u001b[0m\u001b[0;34m.\u001b[0m\u001b[0mget_clip_path\u001b[0m\u001b[0;34m(\u001b[0m\u001b[0;34m)\u001b[0m \u001b[0;32mis\u001b[0m \u001b[0;32mNone\u001b[0m\u001b[0;34m:\u001b[0m\u001b[0;34m\u001b[0m\u001b[0;34m\u001b[0m\u001b[0m\n",
      "\u001b[0;32m/usr/local/lib/python3.7/dist-packages/matplotlib/image.py\u001b[0m in \u001b[0;36mset_data\u001b[0;34m(self, A)\u001b[0m\n\u001b[1;32m    697\u001b[0m                 or self._A.ndim == 3 and self._A.shape[-1] in [3, 4]):\n\u001b[1;32m    698\u001b[0m             raise TypeError(\"Invalid shape {} for image data\"\n\u001b[0;32m--> 699\u001b[0;31m                             .format(self._A.shape))\n\u001b[0m\u001b[1;32m    700\u001b[0m \u001b[0;34m\u001b[0m\u001b[0m\n\u001b[1;32m    701\u001b[0m         \u001b[0;32mif\u001b[0m \u001b[0mself\u001b[0m\u001b[0;34m.\u001b[0m\u001b[0m_A\u001b[0m\u001b[0;34m.\u001b[0m\u001b[0mndim\u001b[0m \u001b[0;34m==\u001b[0m \u001b[0;36m3\u001b[0m\u001b[0;34m:\u001b[0m\u001b[0;34m\u001b[0m\u001b[0;34m\u001b[0m\u001b[0m\n",
      "\u001b[0;31mTypeError\u001b[0m: Invalid shape (28, 28, 1) for image data"
     ]
    },
    {
     "data": {
      "image/png": "[encoded data removed]",
      "text/plain": [
       "<Figure size 432x288 with 1 Axes>"
      ]
     },
     "metadata": {
      "needs_background": "light",
      "tags": []
     },
     "output_type": "display_data"
    }
   ],
   "source": [
    "img2 = plt.imshow(training_set_2[0][0][0], cmap='gray')"
   ]
  },
  {
   "cell_type": "markdown",
   "metadata": {
    "id": "qyyRyI83_65h"
   },
   "source": [
    "## Constructing and Training the new Model\n",
    "\n",
    "We add a few layers at the end of the given Model, making sure the last layer has 29 neurons as output. We also freeze all the layers from the given Model so that we train the new layers, and the fitting is faster."
   ]
  },
  {
   "cell_type": "code",
   "execution_count": null,
   "metadata": {
    "id": "bTr3tKlKEWgW"
   },
   "outputs": [],
   "source": [
    "STEP_SIZE_TRAIN1=training_set_2.n//training_set_2.batch_size\n",
    "STEP_SIZE_VALID1=valid_generator_2.n//valid_generator_2.batch_size"
   ]
  },
  {
   "cell_type": "code",
   "execution_count": null,
   "metadata": {
    "colab": {
     "base_uri": "https://localhost:8080/",
     "height": 229
    },
    "id": "LNiP9OO-Al9A",
    "outputId": "959bb3b5-b4cb-45b9-f5e3-06b28863fd7b"
   },
   "outputs": [
    {
     "ename": "NameError",
     "evalue": "ignored",
     "output_type": "error",
     "traceback": [
      "\u001b[0;31m---------------------------------------------------------------------------\u001b[0m",
      "\u001b[0;31mNameError\u001b[0m                                 Traceback (most recent call last)",
      "\u001b[0;32m<ipython-input-2-7c23cd0bcce6>\u001b[0m in \u001b[0;36m<module>\u001b[0;34m()\u001b[0m\n\u001b[1;32m      2\u001b[0m \u001b[0;31m#model.save('model_weights.h5')\u001b[0m\u001b[0;34m\u001b[0m\u001b[0;34m\u001b[0m\u001b[0;34m\u001b[0m\u001b[0m\n\u001b[1;32m      3\u001b[0m \u001b[0;34m\u001b[0m\u001b[0m\n\u001b[0;32m----> 4\u001b[0;31m \u001b[0mbase_inputs\u001b[0m \u001b[0;34m=\u001b[0m \u001b[0mmodel_new\u001b[0m\u001b[0;34m.\u001b[0m\u001b[0mlayers\u001b[0m\u001b[0;34m[\u001b[0m\u001b[0;36m0\u001b[0m\u001b[0;34m]\u001b[0m\u001b[0;34m.\u001b[0m\u001b[0minput\u001b[0m\u001b[0;34m\u001b[0m\u001b[0;34m\u001b[0m\u001b[0m\n\u001b[0m\u001b[1;32m      5\u001b[0m \u001b[0mbase_outputs\u001b[0m \u001b[0;34m=\u001b[0m \u001b[0mmodel_new\u001b[0m\u001b[0;34m.\u001b[0m\u001b[0mlayers\u001b[0m\u001b[0;34m[\u001b[0m\u001b[0;34m-\u001b[0m\u001b[0;36m1\u001b[0m\u001b[0;34m]\u001b[0m\u001b[0;34m.\u001b[0m\u001b[0moutput\u001b[0m\u001b[0;34m\u001b[0m\u001b[0;34m\u001b[0m\u001b[0m\n\u001b[1;32m      6\u001b[0m \u001b[0;31m# add a global spatial average pooling layer\u001b[0m\u001b[0;34m\u001b[0m\u001b[0;34m\u001b[0m\u001b[0;34m\u001b[0m\u001b[0m\n",
      "\u001b[0;31mNameError\u001b[0m: name 'model_new' is not defined"
     ]
    }
   ],
   "source": [
    "#cut_model = model_new(weights='imagenet', include_top=False)\n",
    "#model.save('model_weights.h5')\n",
    "\n",
    "base_inputs = model_new.layers[0].input\n",
    "base_outputs = model_new.layers[-1].output\n",
    "# add a global spatial average pooling layer\n",
    "# let's add a fully-connected layer\n",
    "x = Dense(1024, activation='relu')(base_outputs)\n",
    "x = Dropout(0.3)(x)\n",
    "x = Dense(512, activation='relu')(x)\n",
    "# and a logistic layer -- let's say we have 200 classes\n",
    "predictions = Dense(29, activation='softmax')(x)\n",
    "\n",
    "# this is the model we will train\n",
    "combined_model = Model(inputs=base_inputs, outputs=predictions)\n",
    "\n",
    "# first: train only the top layers (which were randomly initialized)\n",
    "# i.e. freeze all convolutional InceptionV3 layers\n",
    "for layer in model_new.layers:\n",
    "    layer.trainable = False\n",
    "\n",
    "# compile the model (should be done *after* setting layers to non-trainable)\n",
    "combined_model.compile(optimizer='adam', loss='categorical_crossentropy', metrics=['accuracy'])\n",
    "\n",
    "# train the model on the new data for a few epochs\n",
    "# simple early stopping\n",
    "\n",
    "es1 = EarlyStopping(monitor='val_loss', mode='min', verbose=1, patience=7)\n",
    "check1 = ModelCheckpoint(\"check.h5\", monitor='val_loss',save_best_only=True)\n",
    "\n",
    "#model = Model(inputs=input, outputs=output)\n",
    "savedhistory = combined_model.fit_generator(generator=training_set_2,\n",
    "                    steps_per_epoch=STEP_SIZE_TRAIN1,\n",
    "                    validation_data=valid_generator_2,\n",
    "                    validation_steps=STEP_SIZE_VALID1,\n",
    "                    epochs=100,\n",
    "                    callbacks=[check1, es1])\n",
    "\n",
    "\n",
    "#####combined_model = Sequential()\n",
    "#####combined_model.add(model_new(include_top=False,\n",
    "####weights='imagenet'))"
   ]
  },
  {
   "cell_type": "markdown",
   "metadata": {
    "id": "fWIFN5YiAgcZ"
   },
   "source": [
    "## Summary and Graphs of new Model with Transfer Learning."
   ]
  },
  {
   "cell_type": "code",
   "execution_count": null,
   "metadata": {
    "id": "XUkfb7YdlfY2"
   },
   "outputs": [],
   "source": [
    "combined_model.save('Combined.h5')"
   ]
  },
  {
   "cell_type": "code",
   "execution_count": null,
   "metadata": {
    "colab": {
     "base_uri": "https://localhost:8080/",
     "height": 295
    },
    "id": "rEMiJIZJzUUD",
    "outputId": "2090efd4-12df-4e8a-8f83-78b77ad09bce"
   },
   "outputs": [
    {
     "data": {
      "image/png": "[encoded data removed]",
      "text/plain": [
       "<Figure size 432x288 with 1 Axes>"
      ]
     },
     "metadata": {
      "needs_background": "light",
      "tags": []
     },
     "output_type": "display_data"
    }
   ],
   "source": [
    "plt.plot(savedhistory.history['accuracy'])\n",
    "plt.plot(savedhistory.history['val_accuracy'])\n",
    "plt.title('Model Accuracy')\n",
    "plt.ylabel('Accuracy')\n",
    "plt.xlabel('Epoch')\n",
    "plt.legend(['Train', 'Val'], loc='upper left')\n",
    "plt.show()"
   ]
  },
  {
   "cell_type": "code",
   "execution_count": null,
   "metadata": {
    "colab": {
     "base_uri": "https://localhost:8080/",
     "height": 295
    },
    "id": "ecGmXLubzIQH",
    "outputId": "4838e52e-3080-4903-a787-efbef58aba84"
   },
   "outputs": [
    {
     "data": {
      "image/png": "[encoded data removed]",
      "text/plain": [
       "<Figure size 432x288 with 1 Axes>"
      ]
     },
     "metadata": {
      "needs_background": "light",
      "tags": []
     },
     "output_type": "display_data"
    }
   ],
   "source": [
    "plt.plot(savedhistory.history['loss'])\n",
    "plt.plot(savedhistory.history['val_loss'])\n",
    "plt.title('Model Loss')\n",
    "plt.ylabel('Loss')\n",
    "plt.xlabel('Epoch')\n",
    "plt.legend(['Train', 'Val'], loc='upper right')\n",
    "plt.show()"
   ]
  }
 ],
 "metadata": {
  "accelerator": "GPU",
  "colab": {
   "collapsed_sections": [
    "9_xX9edD44hS",
    "F5R6NGaJ6Uxs",
    "qtsXKXBa7cSq",
    "EwjnraIb7uMS",
    "zMCWqP4eAzO2",
    "UcZsIMei8kyu",
    "qyyRyI83_65h",
    "fWIFN5YiAgcZ"
   ],
   "name": "BrandMind_AnselmoSanchezLopez.ipynb",
   "provenance": []
  },
  "kernelspec": {
   "display_name": "Python 3",
   "language": "python",
   "name": "python3"
  },
  "language_info": {
   "codemirror_mode": {
    "name": "ipython",
    "version": 3
   },
   "file_extension": ".py",
   "mimetype": "text/x-python",
   "name": "python",
   "nbconvert_exporter": "python",
   "pygments_lexer": "ipython3",
   "version": "3.8.8"
  }
 },
 "nbformat": 4,
 "nbformat_minor": 1
}
